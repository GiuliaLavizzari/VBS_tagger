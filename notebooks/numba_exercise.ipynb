{
 "cells": [
  {
   "cell_type": "code",
   "execution_count": 1,
   "id": "7ce76262",
   "metadata": {},
   "outputs": [],
   "source": [
    "import awkward as ak\n",
    "import numpy as np\n",
    "import uproot as uproot"
   ]
  },
  {
   "cell_type": "code",
   "execution_count": 2,
   "id": "b5290813",
   "metadata": {},
   "outputs": [],
   "source": [
    "filename = '/eos/user/g/glavizza/SWAN_projects/VBS_tagger/tree_Zjj_10k.root'\n",
    "file = uproot.open(filename)"
   ]
  },
  {
   "cell_type": "code",
   "execution_count": 3,
   "id": "8f5bbeac",
   "metadata": {},
   "outputs": [
    {
     "name": "stdout",
     "output_type": "stream",
     "text": [
      "['GenParticles;2', 'GenParticles;1', 'LHEParticles;1', 'GenJets;1']\n"
     ]
    }
   ],
   "source": [
    "print(file.keys())"
   ]
  },
  {
   "cell_type": "code",
   "execution_count": 4,
   "id": "84b2afe2",
   "metadata": {},
   "outputs": [],
   "source": [
    "f_LHEParticles = file[\"LHEParticles;1\"]\n",
    "f_GenJets = file[\"GenJets;1\"]\n",
    "f_GenParticles = file[\"GenParticles;2\"]"
   ]
  },
  {
   "cell_type": "code",
   "execution_count": 5,
   "id": "42fc6ad1",
   "metadata": {},
   "outputs": [
    {
     "name": "stdout",
     "output_type": "stream",
     "text": [
      "['LHEPart_pt', 'LHEPart_eta', 'LHEPart_phi', 'LHEPart_mass', 'LHEPart_pdgId', 'LHEPart_status']\n",
      "['GenJet_pt', 'GenJet_eta', 'GenJet_phi', 'GenJet_mass', 'GenJet_nConstituents', 'GenJet_constituents']\n",
      "['nGenPart', 'GenPart_pt', 'GenPart_eta', 'GenPart_phi', 'GenPart_mass', 'GenPart_pdgId']\n"
     ]
    }
   ],
   "source": [
    "print(f_LHEParticles.keys())\n",
    "print(f_GenJets.keys())\n",
    "print(f_GenParticles.keys())"
   ]
  },
  {
   "cell_type": "code",
   "execution_count": 6,
   "id": "a58d84b3",
   "metadata": {},
   "outputs": [],
   "source": [
    "LHEParticles = f_LHEParticles.arrays(f_LHEParticles.keys())\n",
    "GenJets = f_GenJets.arrays(f_GenJets.keys())\n",
    "GenParticles = f_GenParticles.arrays(f_GenParticles.keys())"
   ]
  },
  {
   "cell_type": "code",
   "execution_count": 7,
   "id": "de6974ae",
   "metadata": {},
   "outputs": [],
   "source": [
    "# ------------------------ original function\n",
    "\n",
    "def wrapInPhi(phi):\n",
    "    return (phi + np.pi) % (2 * np.pi) - np.pi\n",
    "\n",
    "def getJetConstituents(i, nConst, allConst):\n",
    "    return allConst[sum(nConst[:i]):sum(nConst[:i+1])]\n",
    "\n",
    "\n",
    "def event_jet_pull(GenJets, GenParticles, ev):\n",
    "    genjets_pt = GenJets.GenJet_pt[ev]\n",
    "    nConstituents = GenJets.GenJet_nConstituents[ev]\n",
    "    constituents = GenJets.GenJet_constituents[ev]\n",
    "    genParts_pt = GenParticles.GenPart_pt[ev]\n",
    "    genParts_eta = GenParticles.GenPart_eta[ev]\n",
    "    genParts_phi = GenParticles.GenPart_phi[ev]\n",
    "    genJets_eta = GenJets.GenJet_eta[ev]\n",
    "    genJets_phi = GenJets.GenJet_phi[ev]\n",
    "        \n",
    "    NJETS = len(GenJets.GenJet_pt[ev])\n",
    "    genjets_pull = []\n",
    "    \n",
    "    pulls_m = []\n",
    "    pulls_eta = []\n",
    "    pulls_phi = []\n",
    "    \n",
    "    \n",
    "    for i in range(NJETS):\n",
    "        pull_m = 0\n",
    "        pull_eta = 0\n",
    "        pull_phi = 0\n",
    "        \n",
    "        genPartsInJetIndices = getJetConstituents(i, nConstituents, constituents)\n",
    "        \n",
    "        cs_pt  = genParts_pt[genPartsInJetIndices]\n",
    "        cs_eta = genParts_eta[genPartsInJetIndices]\n",
    "        cs_phi = genParts_phi[genPartsInJetIndices]\n",
    "        \n",
    "        jet_pt  = GenJets.GenJet_pt[ev][i]\n",
    "        jet_eta = GenJets.GenJet_eta[ev][i]\n",
    "        jet_phi = GenJets.GenJet_phi[ev][i]\n",
    "        \n",
    "        for c_pt, c_eta, c_phi in zip(cs_pt, cs_eta, cs_phi):\n",
    "            pti = c_pt\n",
    "            ri2 = (c_eta-jet_eta)**2+(c_phi-jet_phi)**2\n",
    "            m = pti*ri2\n",
    "            pull_m += m\n",
    "            pull_eta += (c_eta-jet_eta)*m\n",
    "            pull_phi += (c_phi-jet_phi)*m\n",
    "\n",
    "        \n",
    "        pull_m /= jet_pt\n",
    "        pull_eta /= jet_pt\n",
    "        pull_phi /= jet_pt\n",
    "        \n",
    "        pulls_m.append(pull_m)\n",
    "        pulls_eta.append(pull_eta)\n",
    "        pulls_phi.append(pull_phi)\n",
    "        \n",
    "        \n",
    "    \n",
    "    return pulls_m, pulls_eta, pulls_phi\n",
    "\n"
   ]
  },
  {
   "cell_type": "code",
   "execution_count": 8,
   "id": "3eb2d563",
   "metadata": {},
   "outputs": [],
   "source": [
    "# ------------------------ numba rewriting\n",
    "\n",
    "import numpy as np\n",
    "from numba import njit\n",
    "import awkward.numba\n",
    "\n",
    "@njit\n",
    "def getJetConstituents_numba(i, nConst, allConst):\n",
    "    start = 0\n",
    "    for j in range(i):\n",
    "        start += nConst[j]\n",
    "    end = start + nConst[i]\n",
    "    return allConst[start:end]\n",
    "\n",
    "@njit\n",
    "def wrapInPhi_numba(phi):\n",
    "    x = (phi + np.pi) % (2 * np.pi) - np.pi\n",
    "    return x\n",
    "\n",
    "@njit\n",
    "def event_jet_pull_numba(GenJets, GenParticles, ev):\n",
    "    genjets_pt = GenJets.GenJet_pt[ev]\n",
    "    nConstituents = GenJets.GenJet_nConstituents[ev]\n",
    "    constituents = GenJets.GenJet_constituents[ev]\n",
    "    genParts_pt = GenParticles.GenPart_pt[ev]\n",
    "    genParts_eta = GenParticles.GenPart_eta[ev]\n",
    "    genParts_phi = GenParticles.GenPart_phi[ev]\n",
    "    genJets_eta = GenJets.GenJet_eta[ev]\n",
    "    genJets_phi = GenJets.GenJet_phi[ev]\n",
    "    \n",
    "        \n",
    "    NJETS = len(GenJets.GenJet_pt[ev])    \n",
    "    pulls_m = []\n",
    "    pulls_eta = []\n",
    "    pulls_phi = []\n",
    "    \n",
    "    \n",
    "    for i in range(NJETS):\n",
    "        pull_m = 0\n",
    "        pull_eta = 0\n",
    "        pull_phi = 0\n",
    "        \n",
    "        genPartsInJetIndices = getJetConstituents_numba(i, nConstituents, constituents)\n",
    "\n",
    "        cs_pt =[]\n",
    "        cs_eta =[]\n",
    "        cs_phi =[]\n",
    "                \n",
    "        for gpidx in genPartsInJetIndices:\n",
    "            cs_pt.append(genParts_pt[gpidx])\n",
    "            cs_eta.append(genParts_eta[gpidx])\n",
    "            cs_phi.append(genParts_phi[gpidx])\n",
    "        \n",
    "        # print ('cs_pt', cs_pt)\n",
    "        \n",
    "        jet_pt  = GenJets.GenJet_pt[ev][i]\n",
    "        jet_eta = GenJets.GenJet_eta[ev][i]\n",
    "        jet_phi = GenJets.GenJet_phi[ev][i]\n",
    "        \n",
    "        jet_phi = wrapInPhi_numba(jet_phi)        \n",
    "        \n",
    "        for c_pt, c_eta, c_phi in zip(cs_pt, cs_eta, cs_phi):\n",
    "            c_phi = wrapInPhi_numba(c_phi)\n",
    "            pti = c_pt\n",
    "            ri2 = (c_eta-jet_eta)**2+(c_phi-jet_phi)**2\n",
    "            m = pti*ri2\n",
    "            pull_m += m\n",
    "            pull_eta += (c_eta-jet_eta)*m\n",
    "            pull_phi += (c_phi-jet_phi)*m\n",
    "\n",
    "        \n",
    "        pull_m /= jet_pt\n",
    "        pull_eta /= jet_pt\n",
    "        pull_phi /= jet_pt\n",
    "        \n",
    "        pulls_m.append(pull_m)\n",
    "        pulls_eta.append(pull_eta)\n",
    "        pulls_phi.append(pull_phi)\n",
    "        \n",
    "        \n",
    "    \n",
    "    return pulls_m, pulls_eta, pulls_phi"
   ]
  },
  {
   "cell_type": "code",
   "execution_count": 10,
   "id": "77d8628a",
   "metadata": {},
   "outputs": [
    {
     "name": "stdout",
     "output_type": "stream",
     "text": [
      "2.8369152545928955\n"
     ]
    }
   ],
   "source": [
    "import time\n",
    "start = time.time()\n",
    "for i in range(1000):\n",
    "    #event_jet_pull(GenJets, GenParticles, i) # 95.97 s on 1k files\n",
    "    event_jet_pull_numba(GenJets, GenParticles, i) # 2.83 s on 1k files, 3.88 s on 10k events (all)\n",
    "\n",
    "print (time.time() - start)"
   ]
  }
 ],
 "metadata": {
  "@webio": {
   "lastCommId": null,
   "lastKernelId": null
  },
  "kernelspec": {
   "display_name": "Python 3",
   "language": "python",
   "name": "python3"
  },
  "language_info": {
   "codemirror_mode": {
    "name": "ipython",
    "version": 3
   },
   "file_extension": ".py",
   "mimetype": "text/x-python",
   "name": "python",
   "nbconvert_exporter": "python",
   "pygments_lexer": "ipython3",
   "version": "3.9.12"
  }
 },
 "nbformat": 4,
 "nbformat_minor": 5
}
